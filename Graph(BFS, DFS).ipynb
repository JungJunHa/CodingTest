{
 "cells": [
  {
   "cell_type": "markdown",
   "id": "ff93d2b3",
   "metadata": {},
   "source": [
    "### 백준 2178"
   ]
  },
  {
   "cell_type": "code",
   "execution_count": 2,
   "id": "10d552a4",
   "metadata": {},
   "outputs": [],
   "source": [
    "def solution(n,m,graph):\n",
    "    visited = []\n",
    "    graph = [[0]*(m+2)] + [[0] + i + [0] for i in graph] + [[0]*(m+2)]\n",
    "    pass_list = [[1,1,1]]\n",
    "    while pass_list:\n",
    "        node = pass_list.pop(0)\n",
    "        if [n,m] == node[0:2]:\n",
    "            return node[2]\n",
    "        elif node not in visited:\n",
    "            surround = [[node[0],node[1]+1,node[2]+1],[node[0],node[1]-1,node[2]+1],[node[0]+1,node[1],node[2]+1],[node[0]-1,node[1],node[2]+1]]\n",
    "            pass_list = pass_list + [i for i in surround if i[0:2] not in visited and graph[i[0]][i[1]] == 1]\n",
    "            visited.append(node[0:2])\n"
   ]
  },
  {
   "cell_type": "code",
   "execution_count": 3,
   "id": "b8487cb7",
   "metadata": {},
   "outputs": [
    {
     "data": {
      "text/plain": [
       "13"
      ]
     },
     "execution_count": 3,
     "metadata": {},
     "output_type": "execute_result"
    }
   ],
   "source": [
    "solution(7,7,[[1,0,1,1,1,1,1],[1,1,1,0,0,0,1],[1,0,0,0,0,0,1],[1,0,0,0,0,0,1],[1,0,0,0,0,0,1],[1,0,0,0,0,0,1],[1,1,1,1,1,1,1]])"
   ]
  },
  {
   "cell_type": "code",
   "execution_count": 4,
   "id": "e9c63456",
   "metadata": {},
   "outputs": [
    {
     "name": "stdout",
     "output_type": "stream",
     "text": [
      "111\n"
     ]
    },
    {
     "ename": "ValueError",
     "evalue": "not enough values to unpack (expected 2, got 1)",
     "output_type": "error",
     "traceback": [
      "\u001b[1;31m---------------------------------------------------------------------------\u001b[0m",
      "\u001b[1;31mValueError\u001b[0m                                Traceback (most recent call last)",
      "\u001b[1;32m<ipython-input-4-769a67dce02e>\u001b[0m in \u001b[0;36m<module>\u001b[1;34m\u001b[0m\n\u001b[0;32m      1\u001b[0m \u001b[1;32mfrom\u001b[0m \u001b[0mcollections\u001b[0m \u001b[1;32mimport\u001b[0m \u001b[0mdeque\u001b[0m\u001b[1;33m\u001b[0m\u001b[1;33m\u001b[0m\u001b[0m\n\u001b[0;32m      2\u001b[0m \u001b[1;33m\u001b[0m\u001b[0m\n\u001b[1;32m----> 3\u001b[1;33m \u001b[0mN\u001b[0m\u001b[1;33m,\u001b[0m \u001b[0mM\u001b[0m \u001b[1;33m=\u001b[0m \u001b[0mmap\u001b[0m\u001b[1;33m(\u001b[0m\u001b[0mint\u001b[0m\u001b[1;33m,\u001b[0m \u001b[0minput\u001b[0m\u001b[1;33m(\u001b[0m\u001b[1;33m)\u001b[0m\u001b[1;33m.\u001b[0m\u001b[0msplit\u001b[0m\u001b[1;33m(\u001b[0m\u001b[1;33m)\u001b[0m\u001b[1;33m)\u001b[0m\u001b[1;33m\u001b[0m\u001b[1;33m\u001b[0m\u001b[0m\n\u001b[0m\u001b[0;32m      4\u001b[0m \u001b[1;33m\u001b[0m\u001b[0m\n\u001b[0;32m      5\u001b[0m \u001b[0mgraph\u001b[0m \u001b[1;33m=\u001b[0m \u001b[1;33m[\u001b[0m\u001b[1;33m]\u001b[0m\u001b[1;33m\u001b[0m\u001b[1;33m\u001b[0m\u001b[0m\n",
      "\u001b[1;31mValueError\u001b[0m: not enough values to unpack (expected 2, got 1)"
     ]
    }
   ],
   "source": [
    "from collections import deque\n",
    "\n",
    "N, M = map(int, input().split())\n",
    "\n",
    "graph = []\n",
    "\n",
    "for _ in range(N):\n",
    "    graph.append(list(map(int, input())))\n",
    "\n",
    "# 너비 우선 탐색\n",
    "def bfs(x, y):\n",
    "  # 이동할 네 가지 방향 정의 (상, 하, 좌, 우)\n",
    "    dx = [-1, 1, 0, 0] \n",
    "    dy = [0, 0, -1, 1]\n",
    "\n",
    "  # deque 생성\n",
    "    queue = deque()\n",
    "    queue.append((x, y))\n",
    "\n",
    "    while queue:\n",
    "        x, y = queue.popleft()\n",
    "    \n",
    "    # 현재 위치에서 4가지 방향으로 위치 확인\n",
    "        for i in range(4):\n",
    "            nx = x + dx[i]\n",
    "            ny = y + dy[i]\n",
    "\n",
    "      # 위치가 벗어나면 안되기 때문에 조건 추가\n",
    "            if nx < 0 or nx >= N or ny < 0 or ny >= M:\n",
    "                continue\n",
    "      \n",
    "      # 벽이므로 진행 불가\n",
    "            if graph[nx][ny] == 0:\n",
    "                continue\n",
    "      \n",
    "      # 벽이 아니므로 이동\n",
    "            if graph[nx][ny] == 1:\n",
    "                graph[nx][ny] = graph[x][y] + 1\n",
    "                queue.append((nx, ny))\n",
    "  \n",
    "  # 마지막 값에서 카운트 값을 뽑는다.\n",
    "    return graph[N-1][M-1]\n",
    "\n",
    "print(bfs(0, 0))"
   ]
  },
  {
   "cell_type": "markdown",
   "id": "20eba4ba",
   "metadata": {},
   "source": []
  }
 ],
 "metadata": {
  "kernelspec": {
   "display_name": "Python 3",
   "language": "python",
   "name": "python3"
  },
  "language_info": {
   "codemirror_mode": {
    "name": "ipython",
    "version": 3
   },
   "file_extension": ".py",
   "mimetype": "text/x-python",
   "name": "python",
   "nbconvert_exporter": "python",
   "pygments_lexer": "ipython3",
   "version": "3.8.8"
  }
 },
 "nbformat": 4,
 "nbformat_minor": 5
}

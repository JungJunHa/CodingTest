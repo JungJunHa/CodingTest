{
 "cells": [
  {
   "cell_type": "markdown",
   "id": "8db59e47",
   "metadata": {},
   "source": [
    "### 백준 2839(다이나믹 프로그래밍)"
   ]
  },
  {
   "cell_type": "code",
   "execution_count": null,
   "id": "da9dda18",
   "metadata": {},
   "outputs": [],
   "source": [
    "def solution(n):\n",
    "    answer = -1\n",
    "    k = 0\n",
    "    for _ in range(n//3 + 1):\n",
    "        mok = (n - 3*k) // 5 + k\n",
    "        rest = (n - 3*k) % 5\n",
    "        k += 1\n",
    "        if rest == 0:\n",
    "            return mok\n",
    "    if n == 0:\n",
    "        return 0\n",
    "    return answer"
   ]
  },
  {
   "cell_type": "code",
   "execution_count": 24,
   "id": "4a522386",
   "metadata": {},
   "outputs": [
    {
     "data": {
      "text/plain": [
       "1000"
      ]
     },
     "execution_count": 24,
     "metadata": {},
     "output_type": "execute_result"
    }
   ],
   "source": [
    "solution(5000)"
   ]
  },
  {
   "cell_type": "code",
   "execution_count": 22,
   "id": "408070e1",
   "metadata": {
    "scrolled": true
   },
   "outputs": [
    {
     "name": "stdout",
     "output_type": "stream",
     "text": [
      "5000\n",
      "1000\n"
     ]
    }
   ],
   "source": [
    "n = int(input())\n",
    "cnt = 0\n",
    " \n",
    "while True:\n",
    "    if n % 5 != 0:\n",
    "        n = n - 3\n",
    "        cnt += 1\n",
    " \n",
    "    elif n % 5 == 0:\n",
    "        cnt += n // 5\n",
    "        print(cnt)\n",
    "        break\n",
    " \n",
    "    if n < 0:\n",
    "        print(-1)\n",
    "        break"
   ]
  },
  {
   "cell_type": "code",
   "execution_count": null,
   "id": "19c4cb06",
   "metadata": {},
   "outputs": [],
   "source": []
  }
 ],
 "metadata": {
  "kernelspec": {
   "display_name": "Python 3",
   "language": "python",
   "name": "python3"
  },
  "language_info": {
   "codemirror_mode": {
    "name": "ipython",
    "version": 3
   },
   "file_extension": ".py",
   "mimetype": "text/x-python",
   "name": "python",
   "nbconvert_exporter": "python",
   "pygments_lexer": "ipython3",
   "version": "3.8.8"
  }
 },
 "nbformat": 4,
 "nbformat_minor": 5
}

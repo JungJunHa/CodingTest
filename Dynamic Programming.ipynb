{
 "cells": [
  {
   "cell_type": "markdown",
   "id": "8db59e47",
   "metadata": {},
   "source": [
    "### 백준 2839(다이나믹 프로그래밍)"
   ]
  },
  {
   "cell_type": "code",
   "execution_count": null,
   "id": "da9dda18",
   "metadata": {},
   "outputs": [],
   "source": [
    "def solution(n):\n",
    "    answer = -1\n",
    "    k = 0\n",
    "    for _ in range(n//3 + 1):\n",
    "        mok = (n - 3*k) // 5 + k\n",
    "        rest = (n - 3*k) % 5\n",
    "        k += 1\n",
    "        if rest == 0:\n",
    "            return mok\n",
    "    if n == 0:\n",
    "        return 0\n",
    "    return answer"
   ]
  },
  {
   "cell_type": "code",
   "execution_count": 24,
   "id": "4a522386",
   "metadata": {},
   "outputs": [
    {
     "data": {
      "text/plain": [
       "1000"
      ]
     },
     "execution_count": 24,
     "metadata": {},
     "output_type": "execute_result"
    }
   ],
   "source": [
    "solution(5000)"
   ]
  },
  {
   "cell_type": "code",
   "execution_count": 22,
   "id": "408070e1",
   "metadata": {
    "scrolled": true
   },
   "outputs": [
    {
     "name": "stdout",
     "output_type": "stream",
     "text": [
      "5000\n",
      "1000\n"
     ]
    }
   ],
   "source": [
    "n = int(input())\n",
    "cnt = 0\n",
    " \n",
    "while True:\n",
    "    if n % 5 != 0:\n",
    "        n = n - 3\n",
    "        cnt += 1\n",
    " \n",
    "    elif n % 5 == 0:\n",
    "        cnt += n // 5\n",
    "        print(cnt)\n",
    "        break\n",
    " \n",
    "    if n < 0:\n",
    "        print(-1)\n",
    "        break"
   ]
  },
  {
   "cell_type": "markdown",
   "id": "15368281",
   "metadata": {},
   "source": [
    "### 백준 1463"
   ]
  },
  {
   "cell_type": "code",
   "execution_count": 65,
   "id": "3054a058",
   "metadata": {},
   "outputs": [],
   "source": [
    "def solution(n):\n",
    "    d = [0] * n\n",
    "    while d[0] != 0:\n",
    "        if d[n-1] % 3 ==0:\n",
    "            d[(n-1) // 3] += 1\n",
    "            d[n-2] += 1\n",
    "        elif d[n-1] % 2== 0:\n",
    "            d[(n-1) // 2] += 1\n",
    "            d[n-2] += 1\n",
    "        else:\n",
    "            d[n-2] += 1\n",
    "    return d[0]"
   ]
  },
  {
   "cell_type": "code",
   "execution_count": 68,
   "id": "5a50792e",
   "metadata": {},
   "outputs": [
    {
     "data": {
      "text/plain": [
       "0"
      ]
     },
     "execution_count": 68,
     "metadata": {},
     "output_type": "execute_result"
    }
   ],
   "source": [
    "solution(1)"
   ]
  },
  {
   "cell_type": "code",
   "execution_count": 69,
   "id": "a526adc4",
   "metadata": {},
   "outputs": [
    {
     "name": "stdout",
     "output_type": "stream",
     "text": [
      "7\n",
      "3\n"
     ]
    }
   ],
   "source": [
    "n = int(input())\n",
    "d = [0] * (n + 1)\t## d에 계산된 값을 저장해둔다. n + 1이라고 한 이유는, 1번째 수는 사실 d[1]이 아니고 d[2]이기 때문에, 계산하기 편하게 d[1]을 1번째 인 것 처럼 만들어준다.\n",
    "\n",
    "for i in range(2, n + 1):\n",
    "## 여기서 왜 if 1빼는 방법, 2 나누기, 3 나누기 동등하게 하지 않고 처음에 1을 빼고 시작하는지 의아해 할 수 있다.\n",
    "## 1을 빼고 시작하는 이유는 다음에 계산할 나누기가 1을 뺀 값보다 작거나 큼에 따라 어차피 교체되기 때문이다.\n",
    "## 즉 셋 다 시도하는 방법이 맞다.\n",
    "\n",
    "## 여기서 if elif else를 사용하면 안된다. if만 이용해야 세 연산을 다 거칠 수 있다, 가끔 if continue, else continue를 쓰는 분도 계신데, 난 이게 편한듯.\n",
    "    d[i] = d[i - 1] + 1\n",
    "    if i % 3 == 0:\n",
    "        d[i] = min(d[i], d[i // 3] + 1)\t## 1을 더하는 것은 d는 결과가 아닌 계산한 횟수를 저장하는 것 이기 때문이다. d[i]에는 더하지 않는 이유는 이미 1을 뺄 때 1을 더해준 이력이 있기 때문이다.\n",
    "    if i % 2 == 0:\n",
    "        d[i] = min(d[i], d[i // 2] + 1)\n",
    "print(d[n])"
   ]
  },
  {
   "cell_type": "code",
   "execution_count": null,
   "id": "9a3774dd",
   "metadata": {},
   "outputs": [],
   "source": []
  }
 ],
 "metadata": {
  "kernelspec": {
   "display_name": "Python 3",
   "language": "python",
   "name": "python3"
  },
  "language_info": {
   "codemirror_mode": {
    "name": "ipython",
    "version": 3
   },
   "file_extension": ".py",
   "mimetype": "text/x-python",
   "name": "python",
   "nbconvert_exporter": "python",
   "pygments_lexer": "ipython3",
   "version": "3.8.8"
  }
 },
 "nbformat": 4,
 "nbformat_minor": 5
}
